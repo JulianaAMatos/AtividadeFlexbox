{
  "nbformat": 4,
  "nbformat_minor": 0,
  "metadata": {
    "colab": {
      "provenance": [],
      "authorship_tag": "ABX9TyOsL4JzLyZtdRU6fTcxN5r1",
      "include_colab_link": true
    },
    "kernelspec": {
      "name": "python3",
      "display_name": "Python 3"
    },
    "language_info": {
      "name": "python"
    }
  },
  "cells": [
    {
      "cell_type": "markdown",
      "metadata": {
        "id": "view-in-github",
        "colab_type": "text"
      },
      "source": [
        "<a href=\"https://colab.research.google.com/github/JulianaAMatos/AtividadeFlexbox/blob/main/AtividadePython.ipynb\" target=\"_parent\"><img src=\"https://colab.research.google.com/assets/colab-badge.svg\" alt=\"Open In Colab\"/></a>"
      ]
    },
    {
      "cell_type": "code",
      "execution_count": null,
      "metadata": {
        "colab": {
          "base_uri": "https://localhost:8080/"
        },
        "id": "ZehfoEPuWsyI",
        "outputId": "1c6216a2-d9ae-411c-a392-d6bbe2da91aa"
      },
      "outputs": [
        {
          "output_type": "stream",
          "name": "stdout",
          "text": [
            "\n",
            "=== Menu ===\n",
            "\n",
            "Opções\n",
            "1. Adicionar Tarefa\n",
            "2. Remover Tarefa\n",
            "3. Marcar Tarefa como Concluida\n",
            "4. Listar todas as tarefas\n",
            "5. Listar Tarefas concluídas ou pendentes\n",
            "6. Sair\n"
          ]
        }
      ],
      "source": [
        "#Lista para armazenar tarefas\n",
        "\n",
        "tarefas= []\n",
        "\n",
        "#Função que vai adicionar uma nova tarefa\n",
        "\n",
        "def  adicionarTarefas():\n",
        "    tarefas_menu = input('Digite o nome da tarefa para adicionar: ')\n",
        "    tarefas.append({\"Tarefa\": tarefas_menu, \"done\": False})\n",
        "    print('Tarefa adicionada com sucesso!')\n",
        "\n",
        "#Função que vai remover uma tarefa\n",
        "\n",
        "def removerTarefas():\n",
        "    tarefas_index= int(input('Digite o indíce da tarefa a ser removida'))\n",
        "    if 0 <= tarefas_index < len(tarefas): # Changed 'removerTarefas' to 'tarefas_index'\n",
        "        del tarefas[tarefas_index]\n",
        "        print(\"Tarefa removida com sucesso!\")\n",
        "    else:\n",
        "        print(\"Índice inválido!\")\n",
        "\n",
        "# Função para marcar uma tarefa como concluída\n",
        "def concluirTarefa():\n",
        "    if len(tarefas) == 0:\n",
        "        print(\"Não há tarefas para marcar como concluída.\")\n",
        "        return\n",
        "\n",
        "    print(\"Lista de tarefas:\")\n",
        "    for i, tarefa in enumerate(tarefas):\n",
        "       #Use 'done' em vez de 'concluida' para corresponder à chave no dicionário\n",
        "        print(f\"{i}: {tarefa['Tarefa']} - {'Concluída' if tarefa['done'] else 'Pendente'}\")\n",
        "\n",
        "    indice = int(input(\"Digite o índice da tarefa concluída: \"))\n",
        "    if 0 <= indice < len(tarefas):\n",
        "        tarefas[indice]['done'] = True\n",
        "        print(\"Tarefa marcada como concluída!\")\n",
        "    else:\n",
        "        print(\"Índice inválido.\")\n",
        "\n",
        "\n",
        "# Função para listar todas as tarefas\n",
        "def listarTarefa():\n",
        "    if len(tarefas) == 0:\n",
        "        print(\"Não há tarefas para mostrar.\")\n",
        "        return\n",
        "\n",
        "    print(\"Lista de todas as tarefas:\")\n",
        "    for i, tarefa in enumerate(tarefas):\n",
        "\n",
        "        print(f\"{i}: {tarefa['Tarefa']} - {'Concluída' if tarefa.get('done', False) else 'Pendente'}\")\n",
        "\n",
        "\n",
        "def listarTarefaPorStatus():\n",
        "    status = input(\"Digite o status das tarefas que deseja listar (concluída ou pendente): \").lower()\n",
        "    if status not in ['concluída', 'pendente']:\n",
        "        print(\"Status inválido.\")\n",
        "        return\n",
        "\n",
        "    filtrar_tarefas = [tarefa for tarefa in tarefas if (tarefa['done'] and status == 'concluída') or (not tarefa['done'] and status == 'pendente')]\n",
        "    if len(filtrar_tarefas) == 0:\n",
        "        print(f\"Não há tarefas {status} para mostrar.\")\n",
        "    else:\n",
        "        print(f\"Tarefas {status}:\")\n",
        "\n",
        "        for i, tarefa in enumerate(filtrar_tarefas):\n",
        "            print(f\"{i}: {tarefa['Tarefa']}\")\n",
        "\n",
        "# Função principal que exibe o menu e gerencia as opções\n",
        "def main():\n",
        "    while True:\n",
        "        print(\"\\n=== Menu ===\")\n",
        "        print()\n",
        "        print('Opções')\n",
        "        print('1. Adicionar Tarefa')\n",
        "        print('2. Remover Tarefa')\n",
        "        print('3. Marcar Tarefa como Concluida')\n",
        "        print('4. Listar todas as tarefas')\n",
        "        print('5. Listar Tarefas concluídas ou pendentes')\n",
        "        print('6. Sair')\n",
        "\n",
        "        resp = input('Escolha uma opção:')\n",
        "\n",
        "        if resp == '1':\n",
        "              adicionarTarefas()\n",
        "        elif resp == '2':\n",
        "              removerTarefas()\n",
        "        elif resp == '3':\n",
        "              concluirTarefa()\n",
        "        elif resp == '4':\n",
        "              listarTarefa()\n",
        "        elif resp == '5':\n",
        "              listarTarefaPorStatus()\n",
        "        elif resp == '6':\n",
        "              print(\"Saindo do programa...\")\n",
        "              return\n",
        "        else:\n",
        "            print(\"Opção inválida! Tente novamente.\")\n",
        "\n",
        "\n",
        "# Executa o programa\n",
        "if __name__ == \"__main__\":\n",
        "    main()"
      ]
    },
    {
      "cell_type": "markdown",
      "source": [],
      "metadata": {
        "id": "szYn0LL_Xt77"
      }
    }
  ]
}